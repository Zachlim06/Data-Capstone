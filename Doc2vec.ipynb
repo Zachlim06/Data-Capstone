{
 "cells": [
  {
   "cell_type": "code",
   "execution_count": 4,
   "metadata": {},
   "outputs": [],
   "source": [
    "import numpy as np\n",
    "import pandas as pd\n",
    "from tqdm import tqdm\n",
    "tqdm.pandas(desc=\"progress-bar\")\n",
    "from gensim.models import Doc2Vec\n",
    "from sklearn import utils\n",
    "from sklearn.model_selection import train_test_split\n",
    "import gensim\n",
    "from sklearn.linear_model import LogisticRegression\n",
    "from gensim.models.doc2vec import TaggedDocument\n",
    "import re\n",
    "import seaborn as sns\n",
    "import matplotlib.pyplot as plt"
   ]
  },
  {
   "cell_type": "code",
   "execution_count": 5,
   "metadata": {},
   "outputs": [
    {
     "data": {
      "text/html": [
       "<div>\n",
       "<style scoped>\n",
       "    .dataframe tbody tr th:only-of-type {\n",
       "        vertical-align: middle;\n",
       "    }\n",
       "\n",
       "    .dataframe tbody tr th {\n",
       "        vertical-align: top;\n",
       "    }\n",
       "\n",
       "    .dataframe thead th {\n",
       "        text-align: right;\n",
       "    }\n",
       "</style>\n",
       "<table border=\"1\" class=\"dataframe\">\n",
       "  <thead>\n",
       "    <tr style=\"text-align: right;\">\n",
       "      <th></th>\n",
       "      <th>narrative</th>\n",
       "      <th>Product</th>\n",
       "    </tr>\n",
       "  </thead>\n",
       "  <tbody>\n",
       "    <tr>\n",
       "      <th>1</th>\n",
       "      <td>When my loan was switched over to Navient i wa...</td>\n",
       "      <td>Student loan</td>\n",
       "    </tr>\n",
       "    <tr>\n",
       "      <th>2</th>\n",
       "      <td>I tried to sign up for a spending monitoring p...</td>\n",
       "      <td>Credit card or prepaid card</td>\n",
       "    </tr>\n",
       "    <tr>\n",
       "      <th>7</th>\n",
       "      <td>My mortgage is with BB &amp; T Bank, recently I ha...</td>\n",
       "      <td>Mortgage</td>\n",
       "    </tr>\n",
       "    <tr>\n",
       "      <th>13</th>\n",
       "      <td>The entire lending experience with Citizens Ba...</td>\n",
       "      <td>Mortgage</td>\n",
       "    </tr>\n",
       "    <tr>\n",
       "      <th>14</th>\n",
       "      <td>My credit score has gone down XXXX points in t...</td>\n",
       "      <td>Credit reporting</td>\n",
       "    </tr>\n",
       "    <tr>\n",
       "      <th>16</th>\n",
       "      <td>I few months back I contacted XXXX  in regards...</td>\n",
       "      <td>Credit reporting, credit repair services, or o...</td>\n",
       "    </tr>\n",
       "    <tr>\n",
       "      <th>25</th>\n",
       "      <td>I '' m a victim of fraud and I have a file wit...</td>\n",
       "      <td>Credit reporting, credit repair services, or o...</td>\n",
       "    </tr>\n",
       "    <tr>\n",
       "      <th>28</th>\n",
       "      <td>I have been disputing a Bankruptcy on my credi...</td>\n",
       "      <td>Credit reporting, credit repair services, or o...</td>\n",
       "    </tr>\n",
       "    <tr>\n",
       "      <th>42</th>\n",
       "      <td>Today I received a phone call from a number li...</td>\n",
       "      <td>Debt collection</td>\n",
       "    </tr>\n",
       "    <tr>\n",
       "      <th>53</th>\n",
       "      <td>I have gotten 7 calls from AR Resources lookin...</td>\n",
       "      <td>Debt collection</td>\n",
       "    </tr>\n",
       "  </tbody>\n",
       "</table>\n",
       "</div>"
      ],
      "text/plain": [
       "                                            narrative  \\\n",
       "1   When my loan was switched over to Navient i wa...   \n",
       "2   I tried to sign up for a spending monitoring p...   \n",
       "7   My mortgage is with BB & T Bank, recently I ha...   \n",
       "13  The entire lending experience with Citizens Ba...   \n",
       "14  My credit score has gone down XXXX points in t...   \n",
       "16  I few months back I contacted XXXX  in regards...   \n",
       "25  I '' m a victim of fraud and I have a file wit...   \n",
       "28  I have been disputing a Bankruptcy on my credi...   \n",
       "42  Today I received a phone call from a number li...   \n",
       "53  I have gotten 7 calls from AR Resources lookin...   \n",
       "\n",
       "                                              Product  \n",
       "1                                        Student loan  \n",
       "2                         Credit card or prepaid card  \n",
       "7                                            Mortgage  \n",
       "13                                           Mortgage  \n",
       "14                                   Credit reporting  \n",
       "16  Credit reporting, credit repair services, or o...  \n",
       "25  Credit reporting, credit repair services, or o...  \n",
       "28  Credit reporting, credit repair services, or o...  \n",
       "42                                    Debt collection  \n",
       "53                                    Debt collection  "
      ]
     },
     "execution_count": 5,
     "metadata": {},
     "output_type": "execute_result"
    }
   ],
   "source": [
    "df = pd.read_csv('Consumer_Complaints.csv')\n",
    "df = df[['Consumer complaint narrative','Product']]\n",
    "df = df[pd.notnull(df['Consumer complaint narrative'])]\n",
    "df.rename(columns = {'Consumer complaint narrative':'narrative'}, inplace = True)\n",
    "df.head(10)"
   ]
  },
  {
   "cell_type": "code",
   "execution_count": 6,
   "metadata": {},
   "outputs": [
    {
     "data": {
      "text/plain": [
       "(338041, 2)"
      ]
     },
     "execution_count": 6,
     "metadata": {},
     "output_type": "execute_result"
    }
   ],
   "source": [
    "df.shape"
   ]
  },
  {
   "cell_type": "code",
   "execution_count": 7,
   "metadata": {},
   "outputs": [
    {
     "data": {
      "text/plain": [
       "67252706"
      ]
     },
     "execution_count": 7,
     "metadata": {},
     "output_type": "execute_result"
    }
   ],
   "source": [
    "df.index = range(338041)\n",
    "df['narrative'].apply(lambda x: len(x.split(' '))).sum()"
   ]
  },
  {
   "cell_type": "code",
   "execution_count": 8,
   "metadata": {},
   "outputs": [
    {
     "data": {
      "image/png": "[encoded data removed]",
      "text/plain": [
       "<Figure size 864x288 with 1 Axes>"
      ]
     },
     "metadata": {
      "needs_background": "light"
     },
     "output_type": "display_data"
    }
   ],
   "source": [
    "cnt_pro = df['Product'].value_counts()\n",
    "plt.figure(figsize=(12,4))\n",
    "sns.barplot(cnt_pro.index, cnt_pro.values, alpha=0.8)\n",
    "plt.ylabel('Number of Occurrences', fontsize=12)\n",
    "plt.xlabel('Product', fontsize=12)\n",
    "plt.xticks(rotation=90)\n",
    "plt.show()"
   ]
  },
  {
   "cell_type": "code",
   "execution_count": 9,
   "metadata": {},
   "outputs": [
    {
     "name": "stdout",
     "output_type": "stream",
     "text": [
      "this account is old, and should have been removed. it appears to have been transferred several times, they mention continue to update as un paid on my credit file, what for the rest of my life. another threat involving my way of living. amazing how I 'm following the law and getting robbed and bullied, controlled.\n",
      "Product: Debt collection\n"
     ]
    }
   ],
   "source": [
    "def print_complaint(index):\n",
    "    example = df[df.index == index][['narrative', 'Product']].values[0]\n",
    "    if len(example) > 0:\n",
    "        print(example[0])\n",
    "        print('Product:', example[1])\n",
    "\n",
    "\n",
    "print_complaint(12)"
   ]
  },
  {
   "cell_type": "code",
   "execution_count": 10,
   "metadata": {},
   "outputs": [
    {
     "name": "stdout",
     "output_type": "stream",
     "text": [
      "I transferred ( Wire Transfer ) money from XXXX XXXX XXXX on XXXX/XXXX/XXXX to Coinbase, Inc amount of XXXX USD. The Money was transferred same day from my bank account. I have contacted the recipient through there web site asking about the status of the transfer. I have requested them 5 to 6 times in past 5 days. They responded for my 1st request asking the Federal Reference number for the transfer. I sent the required details, but till date no response from them. The CaseID with CoinBase Inc is XXXX. Attaching the Email exchange and Bank Statement ( To Confirm the money was transferred from my account ).\n",
      "Product: Money transfer, virtual currency, or money service\n"
     ]
    }
   ],
   "source": [
    "print_complaint(20)"
   ]
  },
  {
   "cell_type": "code",
   "execution_count": 11,
   "metadata": {},
   "outputs": [],
   "source": [
    "from bs4 import BeautifulSoup\n",
    "def cleanText(text):\n",
    "    text = BeautifulSoup(text, \"lxml\").text\n",
    "    text = re.sub(r'\\|\\|\\|', r' ', text) \n",
    "    text = re.sub(r'http\\S+', r'<URL>', text)\n",
    "    text = text.lower()\n",
    "    text = text.replace('x', '')\n",
    "    return text\n",
    "df['narrative'] = df['narrative'].apply(cleanText)"
   ]
  },
  {
   "cell_type": "code",
   "execution_count": 12,
   "metadata": {},
   "outputs": [
    {
     "name": "stdout",
     "output_type": "stream",
     "text": [
      "[nltk_data] Downloading package punkt to /Users/zachlim/nltk_data...\n",
      "[nltk_data]   Package punkt is already up-to-date!\n"
     ]
    },
    {
     "data": {
      "text/plain": [
       "True"
      ]
     },
     "execution_count": 12,
     "metadata": {},
     "output_type": "execute_result"
    }
   ],
   "source": [
    "train, test = train_test_split(df, test_size=0.3, random_state=42)\n",
    "import nltk\n",
    "from nltk.corpus import stopwords\n",
    "nltk.download('punkt')"
   ]
  },
  {
   "cell_type": "code",
   "execution_count": 13,
   "metadata": {},
   "outputs": [],
   "source": [
    "def tokenize_text(text):\n",
    "    tokens = []\n",
    "    for sent in nltk.sent_tokenize(text):\n",
    "        for word in nltk.word_tokenize(sent):\n",
    "            if len(word) < 2:\n",
    "                continue\n",
    "            tokens.append(word.lower())\n",
    "    return tokens\n",
    "train_tagged = train.apply(\n",
    "    lambda r: TaggedDocument(words=tokenize_text(r['narrative']), tags=[r.Product]), axis=1)\n",
    "test_tagged = test.apply(\n",
    "    lambda r: TaggedDocument(words=tokenize_text(r['narrative']), tags=[r.Product]), axis=1)"
   ]
  },
  {
   "cell_type": "code",
   "execution_count": 15,
   "metadata": {},
   "outputs": [
    {
     "data": {
      "text/plain": [
       "TaggedDocument(words=['some', 'one', 'from', 'my', 'pnc', 'business', 'checking', 'account', 'initiated', 'ach', 'transaction', 'for', 'for', 'si', 'days', 'and', 'transferred', 'more', 'than', '30000.00', 'from', 'my', 'business', 'account', 'company', 'who', 'took', 'out', 'the', 'money', 'named', 'some', 'company', 'originated', 'these', 'translations', 'on', '//', '--', '5000.00', 'on', '//', '--', '5000.00', 'on', '//', '--', '5000.00', 'on', '//', '--', '5000.00', 'on', '//', '--', '5000.00', 'on', '//', '--', '5000.00', 'total', '30000.00', 'was', 'taken', 'out', 'from', 'our', 'pnc', 'bank', 'account', 'without', 'our', 'permission', 'when', 'ach', 'transaction', 'initiated', 'we', 'were', \"n't\", 'aware', 'and', 'there', 'was', 'no', 'permission', 'given', 'to', 'the', 'company', 'pnc', 'bank', 'even', 'did', \"n't\", 'care', 'to', 'check', 'the', 'permission', 'or', 'never', 'called', 'us', 'to', 'get', 'permission', 'to', 'authorize', 'these', 'transactions', 'when', 'we', 'checked', 'our', 'statement', 'on', '//', 'thats', 'when', 'we', 'came', 'to', 'know', 'about', 'these', 'fraud', 'transactions', 'we', 'notify', 'bank', 'immediately', 'and', 'their', 'answer', 'was', 'in', 'order', 'to', 'stop', 'these', 'transactions', 'we', 'need', 'to', 'notify', 'them', 'in', '24', 'hours', 'and', 'they', 'can', 'give', 'money', 'as', 'ach', 'if', 'the', 'person', 'knows', 'our', 'account', 'number', 'and', 'routing', 'number', 'bank', \"'s\", 'response', 'was', 'very', 'casual', 'and', 'said', 'all', 'they', 'can', 'do', 'is', 'submit', 'this', 'to', 'their', 'fraud', 'prevention', 'department', 'and', 'nothing', 'else', 'they', 'can', 'do', 'about', 'our', 'money', 'getting', 'back', 'we', 'were', \"n't\", 'even', 'offered', 'for', 'temporary', 'funds', 'in', 'order', 'to', 'operate', 'our', 'account'], tags=['Checking or savings account'])"
      ]
     },
     "execution_count": 15,
     "metadata": {},
     "output_type": "execute_result"
    }
   ],
   "source": [
    "train_tagged.values[30]"
   ]
  },
  {
   "cell_type": "markdown",
   "metadata": {},
   "source": [
    "### Distributed Bag of Words (DBOW)\n",
    "DBOW is the doc2vec model analogous to Skip-gram model in word2vec. The paragraph vectors are obtained by training a neural network on the task of predicting a probability distribution of words in a paragraph given a randomly-sampled word from the paragraph.\n",
    "\n",
    "We will vary the following parameters:\n",
    "\n",
    "If dm=0, distributed bag of words (PV-DBOW) is used; if dm=1,‘distributed memory’ (PV-DM) is used.\n",
    "300- dimensional feature vectors.\n",
    "min_count=2, ignores all words with total frequency lower than this.\n",
    "negative=5 , specifies how many “noise words” should be drawn.\n",
    "hs=0 , and negative is non-zero, negative sampling will be used.\n",
    "sample=0 , the threshold for configuring which higher-frequency words are randomly down sampled.\n",
    "workers=cores , use these many worker threads to train the model (=faster training with multicore machines)."
   ]
  },
  {
   "cell_type": "code",
   "execution_count": 16,
   "metadata": {},
   "outputs": [],
   "source": [
    "import multiprocessing\n",
    "cores = multiprocessing.cpu_count()"
   ]
  },
  {
   "cell_type": "markdown",
   "metadata": {},
   "source": [
    "### Building a Vocabulary"
   ]
  },
  {
   "cell_type": "code",
   "execution_count": 17,
   "metadata": {},
   "outputs": [
    {
     "name": "stderr",
     "output_type": "stream",
     "text": [
      "100%|██████████| 236628/236628 [00:00<00:00, 2741002.97it/s]\n"
     ]
    }
   ],
   "source": [
    "model_dbow = Doc2Vec(dm=0, vector_size=300, negative=5, hs=0, min_count=2, sample = 0, workers=cores)\n",
    "model_dbow.build_vocab([x for x in tqdm(train_tagged.values)])"
   ]
  },
  {
   "cell_type": "code",
   "execution_count": 18,
   "metadata": {},
   "outputs": [
    {
     "name": "stderr",
     "output_type": "stream",
     "text": [
      "100%|██████████| 236628/236628 [00:00<00:00, 2757482.84it/s]\n",
      "100%|██████████| 236628/236628 [00:00<00:00, 2976570.38it/s]\n",
      "100%|██████████| 236628/236628 [00:00<00:00, 2966153.43it/s]\n",
      "100%|██████████| 236628/236628 [00:00<00:00, 2849394.71it/s]\n",
      "100%|██████████| 236628/236628 [00:00<00:00, 2626864.34it/s]\n",
      "100%|██████████| 236628/236628 [00:00<00:00, 2998404.16it/s]\n",
      "100%|██████████| 236628/236628 [00:00<00:00, 3058944.28it/s]\n",
      "100%|██████████| 236628/236628 [00:00<00:00, 2979966.51it/s]\n",
      "100%|██████████| 236628/236628 [00:00<00:00, 3010619.23it/s]\n",
      "100%|██████████| 236628/236628 [00:00<00:00, 2973645.19it/s]\n",
      "100%|██████████| 236628/236628 [00:00<00:00, 3059500.63it/s]\n",
      "100%|██████████| 236628/236628 [00:00<00:00, 2962434.94it/s]\n",
      "100%|██████████| 236628/236628 [00:00<00:00, 2838661.59it/s]\n",
      "100%|██████████| 236628/236628 [00:00<00:00, 2941738.94it/s]\n",
      "100%|██████████| 236628/236628 [00:00<00:00, 2834713.15it/s]\n",
      "100%|██████████| 236628/236628 [00:00<00:00, 3027757.32it/s]\n",
      "100%|██████████| 236628/236628 [00:00<00:00, 2933322.79it/s]\n",
      "100%|██████████| 236628/236628 [00:00<00:00, 3014679.49it/s]\n",
      "100%|██████████| 236628/236628 [00:00<00:00, 3064848.12it/s]\n",
      "100%|██████████| 236628/236628 [00:00<00:00, 3070138.36it/s]\n",
      "100%|██████████| 236628/236628 [00:00<00:00, 3069226.91it/s]\n",
      "100%|██████████| 236628/236628 [00:00<00:00, 2967492.59it/s]\n",
      "100%|██████████| 236628/236628 [00:00<00:00, 2805807.21it/s]\n",
      "100%|██████████| 236628/236628 [00:00<00:00, 2642791.47it/s]\n",
      "100%|██████████| 236628/236628 [00:00<00:00, 3056777.39it/s]\n",
      "100%|██████████| 236628/236628 [00:00<00:00, 2752802.11it/s]\n",
      "100%|██████████| 236628/236628 [00:00<00:00, 3021452.59it/s]\n",
      "100%|██████████| 236628/236628 [00:00<00:00, 3008812.10it/s]\n",
      "100%|██████████| 236628/236628 [00:00<00:00, 2701012.56it/s]\n",
      "100%|██████████| 236628/236628 [00:00<00:00, 2873724.96it/s]\n"
     ]
    },
    {
     "name": "stdout",
     "output_type": "stream",
     "text": [
      "CPU times: user 37min 42s, sys: 54.7 s, total: 38min 36s\n",
      "Wall time: 13min 40s\n"
     ]
    }
   ],
   "source": [
    "%%time\n",
    "for epoch in range(30):\n",
    "    model_dbow.train(utils.shuffle([x for x in tqdm(train_tagged.values)]), total_examples=len(train_tagged.values), epochs=1)\n",
    "    model_dbow.alpha -= 0.002\n",
    "    model_dbow.min_alpha = model_dbow.alpha"
   ]
  },
  {
   "cell_type": "markdown",
   "metadata": {},
   "source": [
    "### Building final vector feature"
   ]
  },
  {
   "cell_type": "code",
   "execution_count": 19,
   "metadata": {},
   "outputs": [],
   "source": [
    "def vec_for_learning(model, tagged_docs):\n",
    "    sents = tagged_docs.values\n",
    "    targets, regressors = zip(*[(doc.tags[0], model.infer_vector(doc.words, steps=20)) for doc in sents])\n",
    "    return targets, regressors"
   ]
  },
  {
   "cell_type": "markdown",
   "metadata": {},
   "source": [
    "### Train the Logistic Regression Classifier."
   ]
  },
  {
   "cell_type": "code",
   "execution_count": 21,
   "metadata": {},
   "outputs": [
    {
     "name": "stdout",
     "output_type": "stream",
     "text": [
      "Testing accuracy 0.6724483054440752\n",
      "Testing F1 score: 0.6558325375694025\n"
     ]
    }
   ],
   "source": [
    "y_train, X_train = vec_for_learning(model_dbow, train_tagged)\n",
    "y_test, X_test = vec_for_learning(model_dbow, test_tagged)\n",
    "logreg = LogisticRegression(n_jobs=1, C=1e5)\n",
    "logreg.fit(X_train, y_train)\n",
    "y_pred = logreg.predict(X_test)\n",
    "from sklearn.metrics import accuracy_score, f1_score\n",
    "print('Testing accuracy %s' % accuracy_score(y_test, y_pred))\n",
    "print('Testing F1 score: {}'.format(f1_score(y_test, y_pred, average='weighted')))"
   ]
  },
  {
   "cell_type": "markdown",
   "metadata": {},
   "source": [
    "### Distributed Memory (DM)\n",
    "<br>Distributed Memory (DM) acts as a memory that remembers what is missing from the current context — or as the topic of the paragraph. While the word vectors represent the concept of a word, the document vector intends to represent the concept of a document. We again instantiate a Doc2Vec model with a vector size with 300 words and iterating over the training corpus 30 times."
   ]
  },
  {
   "cell_type": "code",
   "execution_count": 23,
   "metadata": {},
   "outputs": [
    {
     "name": "stderr",
     "output_type": "stream",
     "text": [
      "100%|██████████| 236628/236628 [00:00<00:00, 2554434.51it/s]\n"
     ]
    }
   ],
   "source": [
    "model_dmm = Doc2Vec(dm=1, dm_mean=1, vector_size=300, window=10, negative=5, min_count=1, workers=5, alpha=0.065, min_alpha=0.065)\n",
    "model_dmm.build_vocab([x for x in tqdm(train_tagged.values)])"
   ]
  },
  {
   "cell_type": "code",
   "execution_count": 24,
   "metadata": {},
   "outputs": [
    {
     "name": "stderr",
     "output_type": "stream",
     "text": [
      "100%|██████████| 236628/236628 [00:00<00:00, 2447793.68it/s]\n",
      "100%|██████████| 236628/236628 [00:00<00:00, 2735578.51it/s]\n",
      "100%|██████████| 236628/236628 [00:00<00:00, 2587317.37it/s]\n",
      "100%|██████████| 236628/236628 [00:00<00:00, 2876615.17it/s]\n",
      "100%|██████████| 236628/236628 [00:00<00:00, 2728801.78it/s]\n",
      "100%|██████████| 236628/236628 [00:00<00:00, 2880129.56it/s]\n",
      "100%|██████████| 236628/236628 [00:00<00:00, 2790526.36it/s]\n",
      "100%|██████████| 236628/236628 [00:00<00:00, 2733973.43it/s]\n",
      "100%|██████████| 236628/236628 [00:00<00:00, 2604255.98it/s]\n",
      "100%|██████████| 236628/236628 [00:00<00:00, 2285620.97it/s]\n",
      "100%|██████████| 236628/236628 [00:00<00:00, 2011515.45it/s]\n",
      "100%|██████████| 236628/236628 [00:00<00:00, 2004612.71it/s]\n",
      "100%|██████████| 236628/236628 [00:00<00:00, 2117727.14it/s]\n",
      "100%|██████████| 236628/236628 [00:00<00:00, 1925508.28it/s]\n",
      "100%|██████████| 236628/236628 [00:00<00:00, 2170121.26it/s]\n",
      "100%|██████████| 236628/236628 [00:00<00:00, 2417410.82it/s]\n",
      "100%|██████████| 236628/236628 [00:00<00:00, 2726185.85it/s]\n",
      "100%|██████████| 236628/236628 [00:00<00:00, 2663744.17it/s]\n",
      "100%|██████████| 236628/236628 [00:00<00:00, 2706640.18it/s]\n",
      "100%|██████████| 236628/236628 [00:00<00:00, 2737668.69it/s]\n",
      "100%|██████████| 236628/236628 [00:00<00:00, 2724591.77it/s]\n",
      "100%|██████████| 236628/236628 [00:00<00:00, 2651419.00it/s]\n",
      "100%|██████████| 236628/236628 [00:00<00:00, 2823013.75it/s]\n",
      "100%|██████████| 236628/236628 [00:00<00:00, 2684022.44it/s]\n",
      "100%|██████████| 236628/236628 [00:00<00:00, 2983208.99it/s]\n",
      "100%|██████████| 236628/236628 [00:00<00:00, 2985200.97it/s]\n",
      "100%|██████████| 236628/236628 [00:00<00:00, 2844494.86it/s]\n",
      "100%|██████████| 236628/236628 [00:00<00:00, 2839896.21it/s]\n",
      "100%|██████████| 236628/236628 [00:00<00:00, 2947014.85it/s]\n",
      "100%|██████████| 236628/236628 [00:00<00:00, 2950835.06it/s]\n"
     ]
    },
    {
     "name": "stdout",
     "output_type": "stream",
     "text": [
      "CPU times: user 1h 2min 50s, sys: 2min 5s, total: 1h 4min 56s\n",
      "Wall time: 22min 39s\n"
     ]
    }
   ],
   "source": [
    "%%time\n",
    "for epoch in range(30):\n",
    "    model_dmm.train(utils.shuffle([x for x in tqdm(train_tagged.values)]), total_examples=len(train_tagged.values), epochs=1)\n",
    "    model_dmm.alpha -= 0.002\n",
    "    model_dmm.min_alpha = model_dmm.alpha"
   ]
  },
  {
   "cell_type": "markdown",
   "metadata": {},
   "source": [
    "y_train, X_train = vec_for_learning(model_dmm, train_tagged)\n",
    "y_test, X_test = vec_for_learning(model_dmm, test_tagged)\n",
    "logreg.fit(X_train, y_train)\n",
    "y_pred = logreg.predict(X_test)\n",
    "print('Testing accuracy %s' % accuracy_score(y_test, y_pred))\n",
    "print('Testing F1 score: {}'.format(f1_score(y_test, y_pred, average='weighted')))"
   ]
  },
  {
   "cell_type": "markdown",
   "metadata": {},
   "source": [
    "### Model Pairing\n",
    "According to Gensim doc2vec tutorial on the IMDB sentiment data set, combining a paragraph vector from Distributed Bag of Words (DBOW) and Distributed Memory (DM) improves performance. We will follow, pairing the models together for evaluation.\n",
    "\n",
    "First, we delete temporary training data to free up RAM."
   ]
  },
  {
   "cell_type": "code",
   "execution_count": 27,
   "metadata": {},
   "outputs": [],
   "source": [
    "model_dbow.delete_temporary_training_data(keep_doctags_vectors=True, keep_inference=True)\n",
    "model_dmm.delete_temporary_training_data(keep_doctags_vectors=True, keep_inference=True)"
   ]
  },
  {
   "cell_type": "code",
   "execution_count": 30,
   "metadata": {},
   "outputs": [],
   "source": [
    "# concatenate 2 models\n",
    "from gensim.test.test_doc2vec import ConcatenatedDoc2Vec\n",
    "new_model = ConcatenatedDoc2Vec([model_dbow, model_dmm])"
   ]
  },
  {
   "cell_type": "code",
   "execution_count": 31,
   "metadata": {},
   "outputs": [],
   "source": [
    "# Building feature vectors.\n",
    "def get_vectors(model, tagged_docs):\n",
    "    sents = tagged_docs.values\n",
    "    targets, regressors = zip(*[(doc.tags[0], model.infer_vector(doc.words, steps=20)) for doc in sents])\n",
    "    return targets, regressors"
   ]
  },
  {
   "cell_type": "code",
   "execution_count": 33,
   "metadata": {},
   "outputs": [
    {
     "name": "stdout",
     "output_type": "stream",
     "text": [
      "Testing accuracy 0.6816483093883428\n",
      "Testing F1 score: 0.6679105135237989\n"
     ]
    }
   ],
   "source": [
    "# Train the Logistic Regression\n",
    "\n",
    "y_train, X_train = get_vectors(new_model, train_tagged)\n",
    "y_test, X_test = get_vectors(new_model, test_tagged)\n",
    "logreg.fit(X_train, y_train)\n",
    "y_pred = logreg.predict(X_test)\n",
    "print('Testing accuracy %s' % accuracy_score(y_test, y_pred))\n",
    "print('Testing F1 score: {}'.format(f1_score(y_test, y_pred, average='weighted')))"
   ]
  },
  {
   "cell_type": "markdown",
   "metadata": {},
   "source": [
    "The result improved by 1%.\n",
    "\n",
    "For this article, I used training set to train doc2vec, however, in Gensim’s tutorial, the whole data set was used for training, I tried that approach, using the whole data set to train doc2vec classifier for our consumer complaint classification, I was able to achieve 70% accuracy. You can find that notebook here, it is a little different approach."
   ]
  },
  {
   "cell_type": "code",
   "execution_count": null,
   "metadata": {},
   "outputs": [],
   "source": []
  }
 ],
 "metadata": {
  "kernelspec": {
   "display_name": "Python 3",
   "language": "python",
   "name": "python3"
  },
  "language_info": {
   "codemirror_mode": {
    "name": "ipython",
    "version": 3
   },
   "file_extension": ".py",
   "mimetype": "text/x-python",
   "name": "python",
   "nbconvert_exporter": "python",
   "pygments_lexer": "ipython3",
   "version": "3.6.6"
  }
 },
 "nbformat": 4,
 "nbformat_minor": 2
}
